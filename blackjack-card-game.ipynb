{
 "cells": [
  {
   "cell_type": "code",
   "execution_count": 1,
   "id": "9905aeff",
   "metadata": {
    "_cell_guid": "b1076dfc-b9ad-4769-8c92-a6c4dae69d19",
    "_uuid": "8f2839f25d086af736a60e9eeb907d3b93b6e0e5",
    "execution": {
     "iopub.execute_input": "2023-07-04T02:52:59.255382Z",
     "iopub.status.busy": "2023-07-04T02:52:59.255009Z",
     "iopub.status.idle": "2023-07-04T02:52:59.265563Z",
     "shell.execute_reply": "2023-07-04T02:52:59.264647Z"
    },
    "papermill": {
     "duration": 0.017514,
     "end_time": "2023-07-04T02:52:59.268152",
     "exception": false,
     "start_time": "2023-07-04T02:52:59.250638",
     "status": "completed"
    },
    "tags": []
   },
   "outputs": [],
   "source": [
    "#Import Libraries\n",
    "\n",
    "import random"
   ]
  },
  {
   "cell_type": "code",
   "execution_count": 2,
   "id": "2d34fc79",
   "metadata": {
    "execution": {
     "iopub.execute_input": "2023-07-04T02:52:59.274031Z",
     "iopub.status.busy": "2023-07-04T02:52:59.273711Z",
     "iopub.status.idle": "2023-07-04T02:52:59.279083Z",
     "shell.execute_reply": "2023-07-04T02:52:59.277940Z"
    },
    "papermill": {
     "duration": 0.010217,
     "end_time": "2023-07-04T02:52:59.280898",
     "exception": false,
     "start_time": "2023-07-04T02:52:59.270681",
     "status": "completed"
    },
    "tags": []
   },
   "outputs": [],
   "source": [
    "#Calculate the deck card\n",
    "\n",
    "def deal_card():\n",
    "    cards = [11, 2, 3, 4, 5, 6, 7, 8, 9, 10, 10, 10, 10]\n",
    "    card = random.choice(cards)\n",
    "    return card"
   ]
  },
  {
   "cell_type": "code",
   "execution_count": 3,
   "id": "745a84e5",
   "metadata": {
    "execution": {
     "iopub.execute_input": "2023-07-04T02:52:59.286419Z",
     "iopub.status.busy": "2023-07-04T02:52:59.286127Z",
     "iopub.status.idle": "2023-07-04T02:52:59.291557Z",
     "shell.execute_reply": "2023-07-04T02:52:59.290652Z"
    },
    "papermill": {
     "duration": 0.010449,
     "end_time": "2023-07-04T02:52:59.293525",
     "exception": false,
     "start_time": "2023-07-04T02:52:59.283076",
     "status": "completed"
    },
    "tags": []
   },
   "outputs": [],
   "source": [
    "#Calculate the score for blackjack\n",
    "\n",
    "def calculate_score(cards):\n",
    "    if sum(cards) == 21 and len(cards) == 2:\n",
    "        return 0\n",
    "    elif 11 in cards and sum(cards) > 21:\n",
    "        cards.remove(11)\n",
    "        cards.append(1)\n",
    "    return sum(cards)"
   ]
  },
  {
   "cell_type": "code",
   "execution_count": 4,
   "id": "0d7129c7",
   "metadata": {
    "execution": {
     "iopub.execute_input": "2023-07-04T02:52:59.299191Z",
     "iopub.status.busy": "2023-07-04T02:52:59.298775Z",
     "iopub.status.idle": "2023-07-04T02:52:59.304642Z",
     "shell.execute_reply": "2023-07-04T02:52:59.303813Z"
    },
    "papermill": {
     "duration": 0.010904,
     "end_time": "2023-07-04T02:52:59.306716",
     "exception": false,
     "start_time": "2023-07-04T02:52:59.295812",
     "status": "completed"
    },
    "tags": []
   },
   "outputs": [],
   "source": [
    "#Calculate the user score and computer score\n",
    "\n",
    "def compare(user_score, computer_score):\n",
    "    if user_score > 21 and computer_score > 21:\n",
    "        return \"You went over. You lose 😤\"\n",
    "    elif user_score == computer_score:\n",
    "        return \"Draw 🙃\"\n",
    "    elif computer_score == 0:\n",
    "        return \"Lose, opponent has Blackjack 😱\"\n",
    "    elif user_score == 0:\n",
    "        return \"Win with a Blackjack 😎\"\n",
    "    elif user_score > 21:\n",
    "        return \"You went over. You lose 😭\"\n",
    "    elif computer_score > 21:\n",
    "        return \"Opponent went over. You win 😁\"\n",
    "    elif user_score > computer_score:\n",
    "        return \"You win 😃\"\n",
    "    else:\n",
    "        return \"You lose 😤\""
   ]
  },
  {
   "cell_type": "code",
   "execution_count": 5,
   "id": "a2fbd2a5",
   "metadata": {
    "execution": {
     "iopub.execute_input": "2023-07-04T02:52:59.312279Z",
     "iopub.status.busy": "2023-07-04T02:52:59.311985Z",
     "iopub.status.idle": "2023-07-04T02:52:59.320741Z",
     "shell.execute_reply": "2023-07-04T02:52:59.319222Z"
    },
    "papermill": {
     "duration": 0.014235,
     "end_time": "2023-07-04T02:52:59.323271",
     "exception": false,
     "start_time": "2023-07-04T02:52:59.309036",
     "status": "completed"
    },
    "tags": []
   },
   "outputs": [],
   "source": [
    "def play_game():\n",
    "    user_cards = []\n",
    "    computer_cards = []\n",
    "    is_game_over = False\n",
    "\n",
    "    for _ in range(2):\n",
    "        user_cards.append(deal_card())\n",
    "        computer_cards.append(deal_card())\n",
    "\n",
    "    while not is_game_over:\n",
    "        user_score = calculate_score(user_cards)\n",
    "        computer_score = calculate_score(computer_cards)\n",
    "        print(f\"     Your cards: {user_cards}, current score: {user_score}\")\n",
    "        print(f\"     Computer's first card: {computer_cards[0]}\")\n",
    "\n",
    "        if user_score == 0 or computer_score == 0 or user_score > 21:\n",
    "            is_game_over = True\n",
    "        else:\n",
    "            user_should_deal = input(\"Type 'y' to get another card, type 'n' to pass: \")\n",
    "            if user_should_deal == \"y\":\n",
    "                user_cards.append(deal_card())\n",
    "            else:\n",
    "                is_game_over = True\n",
    "\n",
    "    while computer_score != 0 and computer_score < 17:\n",
    "        computer_cards.append(deal_card())\n",
    "        computer_score = calculate_score(computer_cards)\n",
    "\n",
    "    print(f\"     Your final hand: {user_cards}, final score: {user_score}\")\n",
    "    print(f\"     Computer's final hand: {computer_cards}, final score: {computer_score}\")\n",
    "    print(compare(user_score, computer_score))"
   ]
  },
  {
   "cell_type": "code",
   "execution_count": 6,
   "id": "e74d86ba",
   "metadata": {
    "execution": {
     "iopub.execute_input": "2023-07-04T02:52:59.329202Z",
     "iopub.status.busy": "2023-07-04T02:52:59.328900Z",
     "iopub.status.idle": "2023-07-04T02:52:59.332672Z",
     "shell.execute_reply": "2023-07-04T02:52:59.331861Z"
    },
    "papermill": {
     "duration": 0.008765,
     "end_time": "2023-07-04T02:52:59.334468",
     "exception": false,
     "start_time": "2023-07-04T02:52:59.325703",
     "status": "completed"
    },
    "tags": []
   },
   "outputs": [],
   "source": [
    "#Uncomment to play the game\n",
    "    \n",
    "# while input(\"Do you want to play a game of Blackjack? Type 'y' or 'n': \") == \"y\":\n",
    "    #play_game()"
   ]
  }
 ],
 "metadata": {
  "kernelspec": {
   "display_name": "Python 3",
   "language": "python",
   "name": "python3"
  },
  "language_info": {
   "codemirror_mode": {
    "name": "ipython",
    "version": 3
   },
   "file_extension": ".py",
   "mimetype": "text/x-python",
   "name": "python",
   "nbconvert_exporter": "python",
   "pygments_lexer": "ipython3",
   "version": "3.7.12"
  },
  "papermill": {
   "default_parameters": {},
   "duration": 9.354003,
   "end_time": "2023-07-04T02:52:59.955765",
   "environment_variables": {},
   "exception": null,
   "input_path": "__notebook__.ipynb",
   "output_path": "__notebook__.ipynb",
   "parameters": {},
   "start_time": "2023-07-04T02:52:50.601762",
   "version": "2.3.4"
  }
 },
 "nbformat": 4,
 "nbformat_minor": 5
}
